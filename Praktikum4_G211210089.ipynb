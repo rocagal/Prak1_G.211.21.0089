{
  "nbformat": 4,
  "nbformat_minor": 0,
  "metadata": {
    "colab": {
      "private_outputs": true,
      "provenance": [],
      "authorship_tag": "ABX9TyNUPbaxvhtJwGuk13Gu+K5i",
      "include_colab_link": true
    },
    "kernelspec": {
      "name": "python3",
      "display_name": "Python 3"
    },
    "language_info": {
      "name": "python"
    }
  },
  "cells": [
    {
      "cell_type": "markdown",
      "metadata": {
        "id": "view-in-github",
        "colab_type": "text"
      },
      "source": [
        "<a href=\"https://colab.research.google.com/github/rocagal/Prak1_G.211.21.0089/blob/main/Praktikum4_G211210089.ipynb\" target=\"_parent\"><img src=\"https://colab.research.google.com/assets/colab-badge.svg\" alt=\"Open In Colab\"/></a>"
      ]
    },
    {
      "cell_type": "code",
      "execution_count": null,
      "metadata": {
        "id": "QiueFN8wlh74"
      },
      "outputs": [],
      "source": [
        "import pandas as pd\n",
        "import pylab as pl\n",
        "import numpy as np\n",
        "import scipy.optimize as opt\n",
        "import statsmodels.api as sm\n",
        "from sklearn import preprocessing\n",
        "import matplotlib.pyplot as plt\n",
        "import matplotlib.mlab as mlab\n",
        "import seaborn as sn\n",
        "from google.colab import files\n",
        "uploaded = files.upload()"
      ]
    },
    {
      "cell_type": "code",
      "source": [
        "# Dataset\n",
        "disease_df = pd.read_csv(\"framingham.csv\")\n",
        "disease_df.drop(['education'], inplace = True, axis = 1)\n",
        "disease_df.rename(columns = {'male':'Sex_male'}, inplace=True)\n",
        "# Removing NaN / NULL Values\n",
        "disease_df.dropna(axis=0, inplace=True)\n",
        "print(disease_df.head(), disease_df.shape)\n",
        "print(disease_df.TenYearCHD.value_counts)"
      ],
      "metadata": {
        "id": "X2DQt4qmIpNn"
      },
      "execution_count": null,
      "outputs": []
    },
    {
      "cell_type": "code",
      "source": [
        "# Counting no. of patients affected with CHD\n",
        "plt.figure(figsize=(7, 5))\n",
        "sn.countplot(x='TenYearCHD', data=disease_df, palette=\"BuGn_r\")\n",
        "plt.show()\n",
        "#\n",
        "laste = disease_df['TenYearCHD'].plot()\n",
        "plt.show(laste)"
      ],
      "metadata": {
        "id": "vnw0qvjYLAPs"
      },
      "execution_count": null,
      "outputs": []
    },
    {
      "cell_type": "code",
      "source": [
        "X = np.asarray(disease_df[['age', 'Sex_male', 'cigsPerDay', 'totChol', 'sysBP', 'glucose']])\n",
        "y = np.asarray(disease_df['TenYearCHD'])\n",
        "# Normalization of the dataset\n",
        "X = preprocessing.StandardScaler().fit(X).transform(X)\n",
        "# Train-and-Test -Split\n",
        "from sklearn.model_selection import train_test_split\n",
        "X_train, X_test, y_train, y_test = train_test_split(X, y, test_size=0.3, random_state=4)\n",
        "print('Train set: ', X_train.shape, y_train.shape)\n",
        "print('Train set: ', X_test.shape, y_test.shape)"
      ],
      "metadata": {
        "id": "VqFbASMvMVC5"
      },
      "execution_count": null,
      "outputs": []
    },
    {
      "cell_type": "code",
      "source": [
        "from sklearn.linear_model import LogisticRegression\n",
        "logreg = LogisticRegression()\n",
        "logreg.fit(X_train, y_train)\n",
        "y_pred = logreg.predict(X_test)\n",
        "# Evaluation and accuracy\n",
        "from sklearn.metrics import jaccard_score\n",
        "print('')\n",
        "print('Accuraty of the model in jaccard similarty score is = ', jaccard_score(y_test, y_pred))"
      ],
      "metadata": {
        "id": "mIzkmvXsPVBe"
      },
      "execution_count": null,
      "outputs": []
    },
    {
      "cell_type": "code",
      "source": [
        "# This code is countributed by @amartajisce\n",
        "from sklearn.ensemble import RandomForestClassifier\n",
        "rf = RandomForestClassifier()\n",
        "rf.fit(X_train, y_train)\n",
        "score = rf.score(X_test, y_test)*100\n",
        "print('Accuraty of the model is = ', score)"
      ],
      "metadata": {
        "id": "MAWEH2dycLb5"
      },
      "execution_count": null,
      "outputs": []
    },
    {
      "cell_type": "code",
      "source": [
        "from sklearn.metrics._plot.confusion_matrix import confusion_matrix\n",
        "from sklearn.metrics import confusion_matrix, classification_report\n",
        "cm = confusion_matrix(y_test, y_pred)\n",
        "confusion_matrix = pd.DataFrame(data = cm, columns = ['Predicted:0', 'Predicted:1'], index =['Actual:0', 'Actual:1'])\n",
        "plt.figure(figsize = (8, 5))\n",
        "sn.heatmap(confusion_matrix, annot = True, fmt = 'd', cmap = 'Greens')\n",
        "plt.show()\n",
        "print('The details for confusion matrix is =')\n",
        "print(classification_report(y_test, y_pred))"
      ],
      "metadata": {
        "id": "F3CqZv2mgDAP"
      },
      "execution_count": null,
      "outputs": []
    }
  ]
}