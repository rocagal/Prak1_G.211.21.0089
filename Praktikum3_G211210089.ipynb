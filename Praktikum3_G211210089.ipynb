{
  "nbformat": 4,
  "nbformat_minor": 0,
  "metadata": {
    "colab": {
      "private_outputs": true,
      "provenance": [],
      "authorship_tag": "ABX9TyMZ9jGZAyam7r5Cy6mI0HM3",
      "include_colab_link": true
    },
    "kernelspec": {
      "name": "python3",
      "display_name": "Python 3"
    },
    "language_info": {
      "name": "python"
    }
  },
  "cells": [
    {
      "cell_type": "markdown",
      "metadata": {
        "id": "view-in-github",
        "colab_type": "text"
      },
      "source": [
        "<a href=\"https://colab.research.google.com/github/rocagal/Prak1_G.211.21.0089/blob/main/Praktikum3_G211210089.ipynb\" target=\"_parent\"><img src=\"https://colab.research.google.com/assets/colab-badge.svg\" alt=\"Open In Colab\"/></a>"
      ]
    },
    {
      "cell_type": "code",
      "execution_count": null,
      "metadata": {
        "id": "RwERogGd0YK-"
      },
      "outputs": [],
      "source": [
        "# Importing modules and packages\n",
        "import pandas as pd\n",
        "import numpy as np\n",
        "import matplotlib.pyplot as plt\n",
        "import seaborn as sns\n",
        "from sklearn.model_selection import train_test_split\n",
        "from sklearn.linear_model import LinearRegression\n",
        "from sklearn.metrics import mean_squared_error, mean_absolute_error\n",
        "from sklearn import preprocessing\n",
        "\n",
        "from google.colab import files\n",
        "uploaded = files.upload()"
      ]
    },
    {
      "cell_type": "code",
      "source": [
        "# Importing data\n",
        "df = pd.read_csv('Real-estate1.csv')\n",
        "df.drop('No', inplace = True, axis = 1)\n",
        "\n",
        "print(df.head())\n",
        "print(df.columns)"
      ],
      "metadata": {
        "id": "x2XOUa8b4z3s"
      },
      "execution_count": null,
      "outputs": []
    },
    {
      "cell_type": "code",
      "source": [
        "# Plotting a scatterplot\n",
        "sns.scatterplot(x='X4 number of convenience stores', y='Y house price of unit area', data=df)"
      ],
      "metadata": {
        "id": "N87eE2zB2g_w"
      },
      "execution_count": null,
      "outputs": []
    },
    {
      "cell_type": "code",
      "source": [
        "# Creating feature variables\n",
        "X = df.drop('Y house price of unit area', axis=1)\n",
        "y = df['Y house price of unit area']\n",
        "print(X)\n",
        "print(y)"
      ],
      "metadata": {
        "id": "0E0Q8l_Q6KdC"
      },
      "execution_count": null,
      "outputs": []
    },
    {
      "cell_type": "code",
      "source": [
        "# Creating train and test sets\n",
        "X_train, X_test, y_train, y_test = train_test_split(X, y, test_size=0.3, random_state=101)"
      ],
      "metadata": {
        "id": "P8MhIdWFAC-J"
      },
      "execution_count": null,
      "outputs": []
    },
    {
      "cell_type": "code",
      "source": [
        "# Creating a regression model\n",
        "model = LinearRegression()"
      ],
      "metadata": {
        "id": "FlA05MMnF0he"
      },
      "execution_count": null,
      "outputs": []
    },
    {
      "cell_type": "code",
      "source": [
        "model.fit(X_train, y_train)"
      ],
      "metadata": {
        "id": "98m3QfttqIIX"
      },
      "execution_count": null,
      "outputs": []
    },
    {
      "cell_type": "code",
      "source": [
        "# Making predictions\n",
        "predictions = model.predict(X_test)"
      ],
      "metadata": {
        "id": "SDZ6LIISGIeZ"
      },
      "execution_count": null,
      "outputs": []
    },
    {
      "cell_type": "code",
      "source": [
        "# model evaluation\n",
        "print(\n",
        "    'mean_squared_error : ', mean_squared_error(y_test, predictions))\n",
        "print(\n",
        "    'mean_absolute_error : ', mean_squared_error(y_test, predictions))"
      ],
      "metadata": {
        "id": "_3rByQPCGXF1"
      },
      "execution_count": null,
      "outputs": []
    },
    {
      "cell_type": "code",
      "source": [
        "# Import libraries\n",
        "from sklearn.datasets import load_iris\n",
        "from sklearn.model_selection import train_test_split\n",
        "from sklearn.linear_model import LogisticRegression\n",
        "from sklearn.metrics import accuracy_score, confusion_matrix\n",
        "import matplotlib.pyplot as plt\n",
        "import numpy as np"
      ],
      "metadata": {
        "id": "oU3NyXMOcHHO"
      },
      "execution_count": null,
      "outputs": []
    },
    {
      "cell_type": "code",
      "source": [
        "# Load the iris dataset\n",
        "iris = load_iris()\n",
        "X = iris.data\n",
        "y = iris.target\n",
        "# Split the data into training and testing sets\n",
        "X_train, X_test, y_train, y_test, train_test_split(X, y, test_size=0.4, random_state=42)"
      ],
      "metadata": {
        "id": "O6tPusvtdGif"
      },
      "execution_count": null,
      "outputs": []
    },
    {
      "cell_type": "code",
      "source": [
        "# import libraries\n",
        "from sklearn.datasets import load_iris\n",
        "from sklearn.model_selection import train_test_split\n",
        "from sklearn.linear_model import LogisticRegression\n",
        "from sklearn.metrics import accuracy_score, confusion_matrix\n",
        "import matplotlib.pyplot as plt\n",
        "import numpy as np\n",
        "\n",
        "# load the iris dataset\n",
        "iris = load_iris()\n",
        "X = iris.data\n",
        "y = iris.target\n",
        "\n",
        "# split the data into training and testing sets\n",
        "X_train, X_test,\\\n",
        "y_train, y_test = train_test_split(X, y,\n",
        "\t\t\t\t\t\t\t\ttest_size=0.2,\n",
        "\t\t\t\t\t\t\t\trandom_state=42)\n",
        "\n",
        "# create a Multinomial logistic regression model\n",
        "multi_logreg = LogisticRegression(multi_class='multinomial',\n",
        "\t\t\t\t\t\t\t\tsolver='lbfgs')\n",
        "multi_logreg.fit(X_train, y_train)\n",
        "\n",
        "# create a One-vs-Rest logistic regression model\n",
        "ovr_logreg = LogisticRegression(multi_class='ovr',\n",
        "\t\t\t\t\t\t\t\tsolver='liblinear')\n",
        "ovr_logreg.fit(X_train, y_train)\n",
        "\n",
        "# make predictions using the trained models\n",
        "y_pred_multi = multi_logreg.predict(X_test)\n",
        "y_pred_ovr = ovr_logreg.predict(X_test)\n",
        "\n",
        "# evaluate the performance of the models\n",
        "# using accuracy score and confusion matrix\n",
        "print('Multinomial logistic regression accuracy:',\n",
        "\taccuracy_score(y_test, y_pred_multi))\n",
        "print('One-vs-Rest logistic regression accuracy:',\n",
        "\taccuracy_score(y_test, y_pred_ovr))\n",
        "\n",
        "conf_mat_multi = confusion_matrix(y_test, y_pred_multi)\n",
        "conf_mat_ovr = confusion_matrix(y_test, y_pred_ovr)\n",
        "\n",
        "# plot the confusion matrices\n",
        "fig, axs = plt.subplots(ncols=2, figsize=(10, 5))\n",
        "axs[0].imshow(conf_mat_multi, cmap=plt.cm.Blues)\n",
        "axs[0].set_title('Multinomial logistic regression')\n",
        "axs[0].set_xlabel('Predicted labels')\n",
        "axs[0].set_ylabel('True labels')\n",
        "axs[0].set_xticks(np.arange(len(iris.target_names)))\n",
        "axs[0].set_xticklabels(iris.target_names)\n",
        "axs[0].set_yticklabels(iris.target_names)\n",
        "axs[1].imshow(conf_mat_ovr, cmap=plt.cm.Blues)\n",
        "axs[1].set_title('One-vs-Rest logistic regression')\n",
        "axs[1].set_xlabel('Predicted labels')\n",
        "axs[1].set_ylabel('True labels')\n",
        "axs[1].set_xticks(np.arange(len(iris.target_names)))\n",
        "axs[1].set_xticklabels(iris.target_names)\n",
        "axs[1].set_yticks(np.arange(len(iris.target_names)))\n",
        "axs[1].set_yticklabels(iris.target_names)\n",
        "plt.show()"
      ],
      "metadata": {
        "id": "aB6Jz6LLsT3e"
      },
      "execution_count": null,
      "outputs": []
    },
    {
      "cell_type": "code",
      "source": [
        "# create a One-vs-Rest logistic regressing model\n",
        "ovr_logreg = LogisticRegression(multi_class='ovr', solver='liblinear')\n",
        "multi_logreg.fit(X_train, y_train)"
      ],
      "metadata": {
        "id": "6XpJg3kVy9Tz"
      },
      "execution_count": null,
      "outputs": []
    },
    {
      "cell_type": "code",
      "source": [
        "import numpy as np\n",
        "import matplotlib.pyplot as plt\n",
        "from sklearn.datasets import load_iris\n",
        "from sklearn.linear_model import LogisticRegression\n",
        "\n",
        "# Load the iris dataset\n",
        "iris = load_iris()\n",
        "\n",
        "# Extract the features and target\n",
        "X = iris.data[:, :2]\n",
        "y = iris.target\n",
        "\n",
        "# Create an instance of Logistic Regression classifier\n",
        "clf = LogisticRegression(random_state=0,\n",
        "\t\t\t\t\t\tmulti_class='multinomial',\n",
        "\t\t\t\t\t\tsolver='newton-cg')\n",
        "\n",
        "# Fit the model\n",
        "clf.fit(X, y)\n",
        "\n",
        "# Plot the decision boundaries\n",
        "x_min, x_max = X[:, 0].min() - .5, X[:, 0].max() + .5\n",
        "y_min, y_max = X[:, 1].min() - .5, X[:, 1].max() + .5\n",
        "xx, yy = np.meshgrid(np.arange(x_min, x_max, .02),\n",
        "\t\t\t\t\tnp.arange(y_min, y_max, .02))\n",
        "Z = clf.predict(np.c_[xx.ravel(), yy.ravel()])\n",
        "Z = Z.reshape(xx.shape)\n",
        "plt.figure(1, figsize=(4, 3))\n",
        "plt.pcolormesh(xx, yy, Z, cmap=plt.cm.Paired)\n",
        "plt.scatter(X[:, 0], X[:, 1], c=y, edgecolors='k',\n",
        "\t\t\tcmap=plt.cm.Paired)\n",
        "plt.xlabel('Sepal length')\n",
        "plt.ylabel('Sepal width')\n",
        "plt.show()"
      ],
      "metadata": {
        "id": "NblXcM6Fju5O"
      },
      "execution_count": null,
      "outputs": []
    },
    {
      "cell_type": "code",
      "source": [
        "import numpy as np\n",
        "import matplotlib.pyplot as plt\n",
        "from sklearn.datasets import load_iris\n",
        "from sklearn.linear_model import LogisticRegression\n",
        "\n",
        "iris = load_iris()\n",
        "\n",
        "# we only take the first two features for visualization\n",
        "X = iris.data[:, :2]\n",
        "y = iris.target\n",
        "\n",
        "clf = LogisticRegression(random_state=0,\n",
        "\t\t\t\t\t\tmulti_class='ovr',\n",
        "\t\t\t\t\t\tsolver='liblinear')\n",
        "\n",
        "clf.fit(X, y)\n",
        "\n",
        "x_min, x_max = X[:, 0].min() - .5, X[:, 0].max() + .5\n",
        "y_min, y_max = X[:, 1].min() - .5, X[:, 1].max() + .5\n",
        "xx, yy = np.meshgrid(np.arange(x_min, x_max, .02),\n",
        "\t\t\t\t\tnp.arange(y_min, y_max, .02))\n",
        "Z = clf.predict(np.c_[xx.ravel(), yy.ravel()])\n",
        "Z = Z.reshape(xx.shape)\n",
        "plt.figure(1, figsize=(4, 3))\n",
        "plt.pcolormesh(xx, yy, Z, cmap=plt.cm.Paired)\n",
        "plt.scatter(X[:, 0], X[:, 1], c=y, edgecolors='k',\n",
        "\t\t\tcmap=plt.cm.Paired)\n",
        "plt.xlabel('Sepal length')\n",
        "plt.ylabel('Sepal width')\n",
        "plt.title('One-vs-Rest logistic regression')\n",
        "plt.show()"
      ],
      "metadata": {
        "id": "DCtjiBWUaM-1"
      },
      "execution_count": null,
      "outputs": []
    }
  ]
}